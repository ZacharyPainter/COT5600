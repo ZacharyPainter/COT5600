{
  "nbformat": 4,
  "nbformat_minor": 0,
  "metadata": {
    "colab": {
      "name": "COT5600_HW4_Painter.ipynb",
      "provenance": []
    },
    "kernelspec": {
      "name": "python3",
      "display_name": "Python 3"
    }
  },
  "cells": [
    {
      "cell_type": "markdown",
      "metadata": {
        "id": "BCygLSybI3nu",
        "colab_type": "text"
      },
      "source": [
        "# Problem 1:\n",
        "\n",
        "Our cycle detection implementation comes from the given wikipedia article (https://en.wikipedia.org/wiki/Cycle_detection#Floyd's_Tortoise_and_Hare)"
      ]
    },
    {
      "cell_type": "code",
      "metadata": {
        "id": "dayZDeFMTK3g",
        "colab_type": "code",
        "colab": {}
      },
      "source": [
        "def floyd(f, x0):\n",
        "  tortoise = f(x0)\n",
        "  hare = f(tortoise)\n",
        "\n",
        "  while tortoise != hare:\n",
        "    tortoise = f(tortoise)\n",
        "    hare = f(f(hare))\n",
        "   \n",
        "  mu = 0\n",
        "  tortoise = x0\n",
        "  while tortoise != hare:\n",
        "      tortoise = f(tortoise)\n",
        "      hare = f(hare)\n",
        "      mu += 1\n",
        "\n",
        "  lam = 1\n",
        "  hare = f(tortoise)\n",
        "  while tortoise != hare:\n",
        "      hare = f(hare)\n",
        "      lam += 1\n",
        "\n",
        "  return lam, mu"
      ],
      "execution_count": 0,
      "outputs": []
    },
    {
      "cell_type": "markdown",
      "metadata": {
        "id": "4RihZUa4Vvub",
        "colab_type": "text"
      },
      "source": [
        "#Testing\n",
        "\n",
        "We can write some simple looping functions in order to test our cycle detection. We start by defining a wrapper which will print the output of our floyd's algorithm. "
      ]
    },
    {
      "cell_type": "code",
      "metadata": {
        "id": "k6kjlN-JXuXy",
        "colab_type": "code",
        "colab": {}
      },
      "source": [
        "def test_wrapper(f, x0):\n",
        "  lam, mu = floyd(f, x0)\n",
        "\n",
        "  print(\"Position of start of first cycle:\")\n",
        "  print(mu)\n",
        "  print(\"Length of cycle:\")\n",
        "  print(lam)\n",
        "\n",
        "  pattern = [f(x0)]\n",
        "  for i in range(mu):\n",
        "    pattern.append(f(pattern[-1]))\n",
        "  for i in range(lam):\n",
        "    pattern.append(f(pattern[-1]))\n",
        "\n",
        "  pattern.append('...')\n",
        "\n",
        "  print(\"Pattern up the first loop:\")\n",
        "  print(pattern)"
      ],
      "execution_count": 0,
      "outputs": []
    },
    {
      "cell_type": "markdown",
      "metadata": {
        "id": "oJvp8HhMWKz9",
        "colab_type": "text"
      },
      "source": [
        "We define $F_1$. It is clear to see that $F_1$ loops every 5 increments. If we pass $F_1$ into floyd's algorithm with $x_0 = 0$ we get the following output:"
      ]
    },
    {
      "cell_type": "code",
      "metadata": {
        "id": "FOhACLUmV7CG",
        "colab_type": "code",
        "colab": {
          "base_uri": "https://localhost:8080/",
          "height": 118
        },
        "outputId": "d10d87b5-f598-49b7-d4b1-2673361ffcf2"
      },
      "source": [
        "def f_1(x):\n",
        "  return (x + 1) % 5\n",
        "\n",
        "test_wrapper(f_1, 0)"
      ],
      "execution_count": 37,
      "outputs": [
        {
          "output_type": "stream",
          "text": [
            "Position of start of first cycle:\n",
            "0\n",
            "Length of cycle:\n",
            "5\n",
            "Pattern up the first loop:\n",
            "[0, 1, 2, 3, 4, 0, '...']\n"
          ],
          "name": "stdout"
        }
      ]
    },
    {
      "cell_type": "markdown",
      "metadata": {
        "id": "2WmhFnrRY6Av",
        "colab_type": "text"
      },
      "source": [
        "Next we define $F_2$ in the following code block. We test it by passing in $x_0 = 15$. We can manually calculate the outputs of $F_2$ as follows:\n",
        "\n",
        "[15, 30, 7, 14, 3, 6, 1, 2, 1, ...] \n",
        "\n",
        "The answer we expect is that the loop begins at position 6, and has a length of 2. "
      ]
    },
    {
      "cell_type": "code",
      "metadata": {
        "id": "IMIyFoL3YN8g",
        "colab_type": "code",
        "colab": {
          "base_uri": "https://localhost:8080/",
          "height": 118
        },
        "outputId": "46b3a3c8-fcb5-489a-f323-f93496398648"
      },
      "source": [
        "def f_2(x):\n",
        "  x = int(x)\n",
        "  if x % 2 == 0:\n",
        "    return int(x/4) if x/4 > 1 else 1\n",
        "  if x % 2 == 1:\n",
        "    return x*2\n",
        "\n",
        "test_wrapper(f_2, 15)"
      ],
      "execution_count": 36,
      "outputs": [
        {
          "output_type": "stream",
          "text": [
            "Position of start of first cycle:\n",
            "6\n",
            "Length of cycle:\n",
            "2\n",
            "Pattern up the first loop:\n",
            "[15, 30, 7, 14, 3, 6, 1, 2, 1, '...']\n"
          ],
          "name": "stdout"
        }
      ]
    },
    {
      "cell_type": "markdown",
      "metadata": {
        "id": "YeuVO_q3gAWq",
        "colab_type": "text"
      },
      "source": [
        "Finally, we will manually define a function that maps a set to itself. "
      ]
    },
    {
      "cell_type": "code",
      "metadata": {
        "id": "VZNVNHvVgj3-",
        "colab_type": "code",
        "colab": {
          "base_uri": "https://localhost:8080/",
          "height": 118
        },
        "outputId": "23ff24b8-759a-4a14-9f80-15b39e8e336d"
      },
      "source": [
        "def f_3(x):\n",
        "  switch = {\n",
        "      0:1,\n",
        "      1:5,\n",
        "      2:3,\n",
        "      3:6,\n",
        "      4:2,\n",
        "      5:4,\n",
        "      6:4\n",
        "  }\n",
        "\n",
        "  return switch.get(x)\n",
        "\n",
        "test_wrapper(f_3, 0)"
      ],
      "execution_count": 39,
      "outputs": [
        {
          "output_type": "stream",
          "text": [
            "Position of start of first cycle:\n",
            "3\n",
            "Length of cycle:\n",
            "4\n",
            "Pattern up the first loop:\n",
            "[0, 1, 5, 4, 2, 3, 6, 4, '...']\n"
          ],
          "name": "stdout"
        }
      ]
    },
    {
      "cell_type": "markdown",
      "metadata": {
        "id": "WKIykAQvhSOW",
        "colab_type": "text"
      },
      "source": [
        "Passed on the pattern, we can see that the values returned by the floyd algorihthm are correct. \n",
        "\n",
        "#Problem 2\n",
        "\n",
        "We implement the method find_order, which calculates the multiplicative order of a number (https://en.wikipedia.org/wiki/Multiplicative_order). The definition is as follows; Given $a$ and $n$, find the smallest positive $k$ such that:\n",
        "\n",
        "$a^k \\equiv 1$ (mod n)\n",
        "\n",
        "In other words, if $a^k$ mod n == 1, and $k$ is the smallest number which satisfies this expression, then $k$ is the order. \n",
        "\n",
        "In order to find $k$ using floyd's algorithm, we need to observe that once we find a value of k that satisfies the above expression, higher increments of k will just produce a cycle. Thus, our goal is to look for a cycle in the above expression and return the first value $k$ of that cycle. \n",
        "\n",
        "This is tricky however, if we simply define an iterative function g(k) = $(a^k)$ % N, with constants $a$ and $N$, the pattern we produce will not represent all powers of $a^k$. For example, based on the wikipedia article above, lets set $a = 4$ and $n = 7$. If we iterate over g we get:\n",
        "\n",
        "g(1) = $4^1$ mod 7 = 4\n",
        "\n",
        "g(4) = $4^4$ mod 7 = 4\n",
        "\n",
        "g(4) = $4^4$ mod 7 = 4\n",
        "\n",
        "...\n",
        "\n",
        "This pattern does not tell us anything about the smallest value of $k$ which satisfies the expression. \n",
        "\n",
        "Instead, we actually want an iterative function that produces the set we would get by iterating k one value at a time:\n",
        "\n",
        "g(1) = $4^1$ mod 7 = 4\n",
        "\n",
        "g(2) = $4^2$ mod 7 = 2\n",
        "\n",
        "g(3) = $4^3$ mod 7 = 1\n",
        "\n",
        "g(4) = $4^4$ mod 7 = 4\n",
        "\n",
        "The function that does this for us is the following:\n",
        "g(x) = $a*k$ mod n\n",
        "\n",
        "We see that this would give us the following:\n",
        "\n",
        "g(1) = $4*1$ mod 7 = 4\n",
        "\n",
        "g(4) = $4*4$ mod 7 = 2\n",
        "\n",
        "g(2) = $4*2$ mod 7 = 1\n",
        "\n",
        "g(1) = $4*1$ mod 7 = 4\n",
        "\n",
        "At this point, floyd's would detect a cycle. \n",
        "\n"
      ]
    },
    {
      "cell_type": "code",
      "metadata": {
        "id": "hzdrXJ9ziIa0",
        "colab_type": "code",
        "colab": {
          "base_uri": "https://localhost:8080/",
          "height": 50
        },
        "outputId": "9d1880be-5e95-453d-cdc5-a0f9b890dde4"
      },
      "source": [
        "def find_order(a, N):\n",
        "  if np.gcd(a, int(N)) != 1:\n",
        "    return -1\n",
        "\n",
        "  #Setup a function f for use in the floyd function\n",
        "  def f(k):\n",
        "    return (a*k) % N\n",
        "\n",
        "  lam, mu = floyd(f, 1)\n",
        "  return lam\n",
        "\n",
        "print(\"Length of cycle\")\n",
        "print(find_order(4,7))"
      ],
      "execution_count": 113,
      "outputs": [
        {
          "output_type": "stream",
          "text": [
            "Length of cycle\n",
            "3\n"
          ],
          "name": "stdout"
        }
      ]
    },
    {
      "cell_type": "markdown",
      "metadata": {
        "id": "-6gnVqce1uWG",
        "colab_type": "text"
      },
      "source": [
        "Here we note that the length of the cycle: 3, is the solution for $k$. \n",
        "\n",
        "#Tests\n",
        "\n",
        "We run a comprehensive test by writing a more traditional find_order function. We then iterate $a, N$ over the range [1,100]. We test each value using the regular find_order method, and if an answer exists, we check to see if our find_order method returns the same answer. "
      ]
    },
    {
      "cell_type": "code",
      "metadata": {
        "id": "iIDiFvnm2owh",
        "colab_type": "code",
        "colab": {}
      },
      "source": [
        "#find_order using the simple implementation to verify our results\n",
        "def find_order_regular(a,N):\n",
        "  for k in range(1,N):\n",
        "    if (a**k) % N == 1:\n",
        "      return k\n",
        "\n",
        "  return -1"
      ],
      "execution_count": 0,
      "outputs": []
    },
    {
      "cell_type": "code",
      "metadata": {
        "id": "RFk4zQJe3Rwg",
        "colab_type": "code",
        "colab": {
          "base_uri": "https://localhost:8080/",
          "height": 50
        },
        "outputId": "d2efc2a4-b4ea-4483-d2a5-0d27deea524d"
      },
      "source": [
        " def test_find_order():\n",
        "  for i in range(100):\n",
        "    for k in range(100):\n",
        "      result = find_order_regular(i,k)\n",
        "      if result != -1:\n",
        "        #Check our answer against the real answer\n",
        "        if find_order(i,k) != result:\n",
        "          return False\n",
        "  return True\n",
        "\n",
        "\n",
        "print(\"Testing find_order\")\n",
        "print(test_find_order())"
      ],
      "execution_count": 58,
      "outputs": [
        {
          "output_type": "stream",
          "text": [
            "Testing find_order\n",
            "True\n"
          ],
          "name": "stdout"
        }
      ]
    },
    {
      "cell_type": "markdown",
      "metadata": {
        "id": "CCvm-5EN5tn5",
        "colab_type": "text"
      },
      "source": [
        "#Problem 3\n",
        "\n",
        "We implement this method in a straight-forward way based on the psuedo-code provided by the assignment. Based on the slides, we assume that N is not even, and that it is also not prime. \n",
        "\n",
        "The slides mention a step that is not in the psuedocode, which is to check if a and N are coprime. If they are not, then gcd(a,N) is a nontrivial factor of N. "
      ]
    },
    {
      "cell_type": "code",
      "metadata": {
        "id": "TbxGRRTG6KfZ",
        "colab_type": "code",
        "colab": {}
      },
      "source": [
        "import numpy as np\n",
        "\n",
        "def factor(N):\n",
        "\n",
        "  while (1):\n",
        "    # choose a uniformly at random in {2,...,N-1}\n",
        "    a = np.random.randint(low=1, high=N, size=1)\n",
        "\n",
        "    # compute the order r of a module N using the method from problem 2\n",
        "    r = find_order(a, N)\n",
        "\n",
        "    if r == -1:\n",
        "      return np.gcd(a,N)\n",
        "\n",
        "    # if r odd, chose different a\n",
        "    if r % 2 == 1:\n",
        "      continue\n",
        "\n",
        "    # if r even, compute f = gcd(a**(r/2 -1), N))\n",
        "    if r % 2 == 0:\n",
        "      f = np.gcd(int(a**((r/2)-1)), int(N))\n",
        "\n",
        "      # if f is a trivial factor, choose different a\n",
        "      if f != 1 and f != N:\n",
        "        return f"
      ],
      "execution_count": 0,
      "outputs": []
    },
    {
      "cell_type": "markdown",
      "metadata": {
        "id": "7dp1wpY7_6R7",
        "colab_type": "text"
      },
      "source": [
        "#Testing\n",
        "\n",
        "We test our method by writing a test function that gets a factor for every number in the range [1,100]. We skip even and prime numbers in order to satisfy the conditions for N. We verify that the returned number is in fact a valid factor of the input. "
      ]
    },
    {
      "cell_type": "code",
      "metadata": {
        "id": "H3b0q8ucAMjE",
        "colab_type": "code",
        "colab": {
          "base_uri": "https://localhost:8080/",
          "height": 50
        },
        "outputId": "b21519ed-482c-47d3-c07d-9209154c2ede"
      },
      "source": [
        "#A simple is prime function\n",
        "def is_prime(N):\n",
        "  for i in range(2,N):\n",
        "    if N%i == 0:\n",
        "      return False\n",
        "  return True\n",
        "\n",
        "def test_factor():\n",
        "  for i in range(2,100):\n",
        "    #Check that our input is valid\n",
        "    if i % 2 == 0 or is_prime(i) or np.sqrt(i) % 1 == 0:\n",
        "      continue\n",
        "\n",
        "    #Get the factor\n",
        "    result = factor(i)\n",
        "\n",
        "    #Verify\n",
        "    if i%result != 0:\n",
        "      return False\n",
        "  return True\n",
        "\n",
        "print(\"Result of test_factor:\")\n",
        "print(test_factor())"
      ],
      "execution_count": 121,
      "outputs": [
        {
          "output_type": "stream",
          "text": [
            "Result of test_factor:\n",
            "True\n"
          ],
          "name": "stdout"
        }
      ]
    }
  ]
}